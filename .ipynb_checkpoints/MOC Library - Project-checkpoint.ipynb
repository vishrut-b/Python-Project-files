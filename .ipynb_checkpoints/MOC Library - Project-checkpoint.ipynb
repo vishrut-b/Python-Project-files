{
 "cells": [
  {
   "cell_type": "code",
   "execution_count": null,
   "id": "362b1ae0",
   "metadata": {},
   "outputs": [],
   "source": [
    "import numpy as np\n",
    "import matplotlib.pyplot as plt\n",
    "from mocpy import MOC\n",
    "from astropy.io import votable\n",
    "import mod as mod"
   ]
  },
  {
   "cell_type": "markdown",
   "id": "1c4e488c",
   "metadata": {},
   "source": [
    "### Task 1 : Extract table in VOTable format."
   ]
  },
  {
   "cell_type": "code",
   "execution_count": null,
   "id": "e681981c",
   "metadata": {},
   "outputs": [],
   "source": [
    "limit = 100 # the table contain>100K lines\n",
    "source1 = \"II/7A/catalog\"\n",
    "url = f\"https://vizier.cds.unistra.fr/viz-bin/votable?-source={source1}&-out.max=10000\"\n",
    "vtable = votable.parse(url)\n",
    "\n",
    "# get information\n",
    "for info in vtable.iter_info():\n",
    "    print(f\"{info.name:<20} {info.value}\")"
   ]
  },
  {
   "cell_type": "markdown",
   "id": "8c8252cb",
   "metadata": {},
   "source": [
    "Here, a regular table from astropy"
   ]
  },
  {
   "cell_type": "code",
   "execution_count": null,
   "id": "ed93ca85",
   "metadata": {},
   "outputs": [],
   "source": [
    "from astropy.table import Table\n",
    "\n",
    "limit = 100000 # the table contain>100K lines\n",
    "\n",
    "source = \"II/7A/catalog\"\n",
    "url = f\"https://vizier.cds.unistra.fr/viz-bin/votable?-source={source}&-out.max={limit}\"\n",
    "\n",
    "table = Table.read(url, table_id=\"II/7A/catalog\")\n",
    "print(table[:5])"
   ]
  },
  {
   "cell_type": "markdown",
   "id": "60b24804",
   "metadata": {},
   "source": [
    "### Task 2 : Build an astropy table with an added HEALPix column in the order that you choose (eg: order 10) You can use the astropy-healpix library to compute the HEALPix number from ra,dec."
   ]
  },
  {
   "cell_type": "code",
   "execution_count": null,
   "id": "6c0c06b5",
   "metadata": {},
   "outputs": [],
   "source": [
    "from astropy_healpix import HEALPix\n",
    "from astropy.coordinates import SkyCoord, ICRS, Angle\n",
    "from astropy import units as u\n",
    "\n",
    "order = 4 # We choose any order\n",
    "nside = 2**order\n",
    "table = Table.read(url, table_id=\"II/7A/catalog\")\n",
    "\n",
    "# Compute the HEALPix index and add it as a new column\n",
    "\n",
    "hp = HEALPix(nside=nside, order = 'nested', frame = ICRS())\n",
    "coord = SkyCoord(table[\"_RA\"], table[\"_DE\"], frame= 'icrs', unit = 'deg')\n",
    "list_ipix = hp.skycoord_to_healpix(coord)\n",
    "\n",
    "table['Healpix'] = list_ipix\n",
    "print(\"Lenth of the ipix list is = \", len(list_ipix))\n",
    "print(table[:5])"
   ]
  },
  {
   "cell_type": "markdown",
   "id": "20e9e07a",
   "metadata": {},
   "source": [
    "### Task 3: Create a simple HEALPix pixelation from the HEALPix column (so a kind of MOC but in a unique order). Your code must contains a text serialization. Example of HEALPix pixelation serialization: 6/17407 18090 18773 19456"
   ]
  },
  {
   "cell_type": "code",
   "execution_count": null,
   "id": "93453f65",
   "metadata": {},
   "outputs": [],
   "source": [
    "from astropy_healpix import HEALPix\n",
    "\n",
    "order = 3 #We can put any order here.\n",
    "nside = 2**order\n",
    "\n",
    "hp = HEALPix(nside=nside, order = 'nested', frame = ICRS())\n",
    "coord = SkyCoord(table[\"_RA\"], table[\"_DE\"], frame= 'icrs', unit = 'deg')\n",
    "list_ipix = hp.skycoord_to_healpix(coord)\n",
    "unique_list = (np.unique(np.sort(np.abs(list_ipix))))\n",
    "string_list = \" \".join(map(str, unique_list))\n",
    "\n",
    "with open('Serialised_text.txt', 'w') as f:\n",
    "    f.write(f\"{order}/\")\n",
    "    f.writelines(''.join(string_list))\n",
    "    \n",
    "print(f\"{order}/\", string_list)"
   ]
  },
  {
   "cell_type": "markdown",
   "id": "779823bb",
   "metadata": {},
   "source": [
    "### Task 4: Extend the code to build a real MOC (with HEALPix in different order) and apply it to the HEALPix column. Your code must contains a text serialization. Todo that, you can (but you can follow an other algorithm) have a recursive approach that manages cells in a structure (made of dictionaries, lists, objects) and functions/methods that manages node operations (like to add or delete a node). Then you iterate the HEALPix values and feed one by one the MOC tree."
   ]
  },
  {
   "cell_type": "code",
   "execution_count": 1,
   "id": "80667d63",
   "metadata": {},
   "outputs": [],
   "source": [
    "import mod as mod \n",
    "\n",
    "#I import my module here"
   ]
  },
  {
   "cell_type": "markdown",
   "id": "1cf51ae0",
   "metadata": {},
   "source": [
    "##### Here, I print the print the order and the ideal number of ipix cells it should contain."
   ]
  },
  {
   "cell_type": "code",
   "execution_count": null,
   "id": "634b483f",
   "metadata": {},
   "outputs": [],
   "source": [
    "order = 1\n",
    "mod.details(order) "
   ]
  },
  {
   "cell_type": "markdown",
   "id": "65a4fc42",
   "metadata": {},
   "source": [
    "##### Now, I build a function which gives me the list of ipix cells of the current order. It also generates a list, called \"main_list\" which will be used in subsequent functions like \"My_MOC\" which, for example, is defined to generate the MOC."
   ]
  },
  {
   "cell_type": "code",
   "execution_count": null,
   "id": "7f180a0f",
   "metadata": {},
   "outputs": [],
   "source": [
    "order = 1 #Insert any order\n",
    "a = mod.current_order(order)\n",
    "print(f\"{order}/\", a)"
   ]
  },
  {
   "cell_type": "markdown",
   "id": "cd1cea5d",
   "metadata": {},
   "source": [
    "##### Now, I build a function which gives me the list of ipix cells of the higher order to the current order."
   ]
  },
  {
   "cell_type": "code",
   "execution_count": null,
   "id": "85925fd7",
   "metadata": {},
   "outputs": [],
   "source": [
    "order = 1 #Insert any order\n",
    "main_list = mod.current_order(order) \n",
    "mod.increase_order(order, main_list) #This function gives the list of ipix cells of the next order.\n",
    " \n",
    "print(f\"{order+1}/\", mod.increase_order(order, main_list))"
   ]
  },
  {
   "cell_type": "markdown",
   "id": "083f1c3b",
   "metadata": {},
   "source": [
    "##### Now I build the final function, which will construct the desired MOC Tree"
   ]
  },
  {
   "cell_type": "code",
   "execution_count": null,
   "id": "51c478b0",
   "metadata": {
    "scrolled": false
   },
   "outputs": [],
   "source": [
    "order=6\n",
    "main_list = mod.current_order(order)  \n",
    "print(mod.My_MOC(order,main_list))"
   ]
  },
  {
   "cell_type": "markdown",
   "id": "4beee7a9",
   "metadata": {},
   "source": [
    "###  Task 5 : Illustrate the result in a Jupyter notebook with plots (matplotlib) or in Aladin (module ipyaladin). In the notebook, use your serialization and mocpy (especially for functions like plots or moc-operation only available in mocpy)."
   ]
  },
  {
   "cell_type": "code",
   "execution_count": null,
   "id": "7950a3fe",
   "metadata": {},
   "outputs": [],
   "source": [
    "from mocpy import MOC\n",
    "\n",
    "order = 8\n",
    "main_list = mod.current_order(order)\n",
    "\n",
    "moc = MOC.from_str(mod.My_MOC(order, main_list)) # Here, I use my serialisation\n",
    "\n",
    "fig = plt.figure(111, figsize=(15, 10))\n",
    "wcs = moc.wcs(fig, coordsys=\"icrs\", rotation=Angle(0, u.degree), projection=\"AIT\")\n",
    "ax = fig.add_subplot(1, 1, 1, projection=wcs)\n",
    "moc.fill(ax=ax, wcs=wcs, alpha=0.5, fill=True, color=\"green\")\n",
    "moc.border(ax=ax, wcs=wcs, alpha=0.5, color=\"black\")\n",
    "plt.title(f\"MOC of {source} using serialisation, starting at order = {order}\", fontsize=16)\n",
    "plt.grid(color=\"black\", linestyle=\"dotted\")\n",
    "plt.savefig(r\"MOC_using_serialisation.png\")\n",
    "plt.show()\n"
   ]
  },
  {
   "cell_type": "markdown",
   "id": "d1c40e74",
   "metadata": {},
   "source": [
    "### Note: to test, you can use the mocpy library and check if the results are similar. You can also plot the result using astropy (see the mocpy doc.). The mocpy library is able to check some inconsistencies like overlapping elements."
   ]
  },
  {
   "cell_type": "code",
   "execution_count": null,
   "id": "12b5a973",
   "metadata": {},
   "outputs": [],
   "source": [
    "order = 8\n",
    "nside = 2**order\n",
    "\n",
    "# Here, I use vizier data to confirm if my function is right\n",
    "moc = MOC.from_vizier_table(table_id = f\"{source}\", nside=nside) #source is defined in the beginning of the notebook\n",
    "\n",
    "fig = plt.figure(111, figsize=(15, 10))\n",
    "wcs = moc.wcs(fig, coordsys=\"icrs\", rotation=Angle(0, u.degree), projection=\"AIT\")\n",
    "ax = fig.add_subplot(1, 1, 1, projection=wcs)\n",
    "moc.fill(ax=ax, wcs=wcs, alpha=0.5, fill=True, color=\"green\")\n",
    "moc.border(ax=ax, wcs=wcs, alpha=0.5, color=\"black\")\n",
    "plt.title(f\"MOC of {source} using VizieR data, starting at order = {order}\", fontsize=16)\n",
    "plt.grid(color=\"black\", linestyle=\"dotted\")\n",
    "plt.savefig(r\"MOC_using_VizieR.png\")\n",
    "plt.show()\n"
   ]
  }
 ],
 "metadata": {
  "kernelspec": {
   "display_name": "Python 3 (ipykernel)",
   "language": "python",
   "name": "python3"
  },
  "language_info": {
   "codemirror_mode": {
    "name": "ipython",
    "version": 3
   },
   "file_extension": ".py",
   "mimetype": "text/x-python",
   "name": "python",
   "nbconvert_exporter": "python",
   "pygments_lexer": "ipython3",
   "version": "3.9.12"
  }
 },
 "nbformat": 4,
 "nbformat_minor": 5
}
